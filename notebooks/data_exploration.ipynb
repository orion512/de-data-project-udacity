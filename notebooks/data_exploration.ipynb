{
 "cells": [
  {
   "attachments": {},
   "cell_type": "markdown",
   "metadata": {},
   "source": [
    "# Data Exploration"
   ]
  },
  {
   "cell_type": "code",
   "execution_count": 1,
   "metadata": {},
   "outputs": [],
   "source": [
    "import pandas as pd"
   ]
  },
  {
   "cell_type": "code",
   "execution_count": 2,
   "metadata": {},
   "outputs": [
    {
     "name": "stderr",
     "output_type": "stream",
     "text": [
      "C:\\Users\\Dominik\\AppData\\Local\\Temp\\ipykernel_28200\\1059471794.py:2: DtypeWarning: Columns (4) have mixed types. Specify dtype option on import or set low_memory=False.\n",
      "  title_df = pd.read_csv(r\"..\\datasets\\title.basics.tsv\", delimiter=\"\\t\")\n"
     ]
    }
   ],
   "source": [
    "# at least 3.7GB of free Memory required to read the below datasets (above 4GB recommended)\n",
    "title_df = pd.read_csv(r\"..\\datasets\\title.basics.tsv\", delimiter=\"\\t\")\n",
    "principal_df = pd.read_csv(r\"..\\datasets\\title.principals.tsv\", delimiter=\"\\t\")\n",
    "ratings_df = pd.read_csv(r\"..\\datasets\\title.ratings.tsv\", delimiter=\"\\t\")\n",
    "principal_basics_df = pd.read_csv(r\"..\\datasets\\name.basics.tsv\", delimiter=\"\\t\")"
   ]
  },
  {
   "cell_type": "code",
   "execution_count": 5,
   "metadata": {},
   "outputs": [
    {
     "name": "stdout",
     "output_type": "stream",
     "text": [
      "Size of titles: 9,533,824\n",
      "Size of ratings: 1,267,778\n",
      "Size of principals: 54,126,469\n",
      "Size of principal basics: 12,232,530\n"
     ]
    }
   ],
   "source": [
    "print(f\"Size of titles: {title_df.shape[0]:,}\")\n",
    "print(f\"Size of ratings: {ratings_df.shape[0]:,}\")\n",
    "print(f\"Size of principals: {principal_df.shape[0]:,}\")\n",
    "print(f\"Size of principal basics: {principal_basics_df.shape[0]:,}\")"
   ]
  },
  {
   "cell_type": "code",
   "execution_count": 9,
   "metadata": {},
   "outputs": [
    {
     "data": {
      "text/plain": [
       "array(['self', 'director', 'cinematographer', 'composer', 'producer',\n",
       "       'editor', 'actor', 'actress', 'writer', 'production_designer',\n",
       "       'archive_footage', 'archive_sound'], dtype=object)"
      ]
     },
     "execution_count": 9,
     "metadata": {},
     "output_type": "execute_result"
    }
   ],
   "source": [
    "principal_df.category.unique()"
   ]
  },
  {
   "cell_type": "code",
   "execution_count": 11,
   "metadata": {},
   "outputs": [
    {
     "data": {
      "text/plain": [
       "array(['short', 'movie', 'tvSeries', 'tvShort', 'tvMovie', 'tvEpisode',\n",
       "       'tvMiniSeries', 'tvSpecial', 'video', 'videoGame', 'tvPilot'],\n",
       "      dtype=object)"
      ]
     },
     "execution_count": 11,
     "metadata": {},
     "output_type": "execute_result"
    }
   ],
   "source": [
    "title_df.titleType.unique()"
   ]
  },
  {
   "attachments": {},
   "cell_type": "markdown",
   "metadata": {},
   "source": [
    "## Missing Values"
   ]
  },
  {
   "cell_type": "code",
   "execution_count": 13,
   "metadata": {},
   "outputs": [
    {
     "data": {
      "text/plain": [
       "tconst             0\n",
       "titleType          0\n",
       "primaryTitle      11\n",
       "originalTitle     11\n",
       "isAdult            0\n",
       "startYear          0\n",
       "endYear            0\n",
       "runtimeMinutes     0\n",
       "genres            10\n",
       "dtype: int64"
      ]
     },
     "execution_count": 13,
     "metadata": {},
     "output_type": "execute_result"
    }
   ],
   "source": [
    "title_df.isnull().sum()"
   ]
  },
  {
   "cell_type": "code",
   "execution_count": 26,
   "metadata": {},
   "outputs": [
    {
     "data": {
      "text/plain": [
       "1267778"
      ]
     },
     "execution_count": 26,
     "metadata": {},
     "output_type": "execute_result"
    }
   ],
   "source": [
    "ratings_df.tconst.nunique()"
   ]
  },
  {
   "cell_type": "code",
   "execution_count": 24,
   "metadata": {},
   "outputs": [
    {
     "data": {
      "text/html": [
       "<div>\n",
       "<style scoped>\n",
       "    .dataframe tbody tr th:only-of-type {\n",
       "        vertical-align: middle;\n",
       "    }\n",
       "\n",
       "    .dataframe tbody tr th {\n",
       "        vertical-align: top;\n",
       "    }\n",
       "\n",
       "    .dataframe thead th {\n",
       "        text-align: right;\n",
       "    }\n",
       "</style>\n",
       "<table border=\"1\" class=\"dataframe\">\n",
       "  <thead>\n",
       "    <tr style=\"text-align: right;\">\n",
       "      <th></th>\n",
       "      <th>nconst</th>\n",
       "      <th>primaryName</th>\n",
       "      <th>birthYear</th>\n",
       "      <th>deathYear</th>\n",
       "      <th>primaryProfession</th>\n",
       "      <th>knownForTitles</th>\n",
       "    </tr>\n",
       "  </thead>\n",
       "  <tbody>\n",
       "    <tr>\n",
       "      <th>797182</th>\n",
       "      <td>nm0846485</td>\n",
       "      <td>Sophie-Véronique Toué Tagbé</td>\n",
       "      <td>\\N</td>\n",
       "      <td>\\N</td>\n",
       "      <td>actress</td>\n",
       "      <td>tt0106820</td>\n",
       "    </tr>\n",
       "    <tr>\n",
       "      <th>11630124</th>\n",
       "      <td>nm9275606</td>\n",
       "      <td>Amanda Egbu</td>\n",
       "      <td>\\N</td>\n",
       "      <td>\\N</td>\n",
       "      <td>assistant_director,miscellaneous</td>\n",
       "      <td>tt7369828</td>\n",
       "    </tr>\n",
       "    <tr>\n",
       "      <th>11621969</th>\n",
       "      <td>nm9265325</td>\n",
       "      <td>Shuvankar Das</td>\n",
       "      <td>\\N</td>\n",
       "      <td>\\N</td>\n",
       "      <td>actor,miscellaneous</td>\n",
       "      <td>tt7360512</td>\n",
       "    </tr>\n",
       "  </tbody>\n",
       "</table>\n",
       "</div>"
      ],
      "text/plain": [
       "             nconst                  primaryName birthYear deathYear  \\\n",
       "797182    nm0846485  Sophie-Véronique Toué Tagbé        \\N        \\N   \n",
       "11630124  nm9275606                  Amanda Egbu        \\N        \\N   \n",
       "11621969  nm9265325                Shuvankar Das        \\N        \\N   \n",
       "\n",
       "                         primaryProfession knownForTitles  \n",
       "797182                             actress      tt0106820  \n",
       "11630124  assistant_director,miscellaneous      tt7369828  \n",
       "11621969               actor,miscellaneous      tt7360512  "
      ]
     },
     "execution_count": 24,
     "metadata": {},
     "output_type": "execute_result"
    }
   ],
   "source": [
    "principal_basics_df.sample(3)"
   ]
  },
  {
   "cell_type": "code",
   "execution_count": 14,
   "metadata": {},
   "outputs": [
    {
     "data": {
      "text/html": [
       "<div>\n",
       "<style scoped>\n",
       "    .dataframe tbody tr th:only-of-type {\n",
       "        vertical-align: middle;\n",
       "    }\n",
       "\n",
       "    .dataframe tbody tr th {\n",
       "        vertical-align: top;\n",
       "    }\n",
       "\n",
       "    .dataframe thead th {\n",
       "        text-align: right;\n",
       "    }\n",
       "</style>\n",
       "<table border=\"1\" class=\"dataframe\">\n",
       "  <thead>\n",
       "    <tr style=\"text-align: right;\">\n",
       "      <th></th>\n",
       "      <th>tconst</th>\n",
       "      <th>ordering</th>\n",
       "      <th>nconst</th>\n",
       "      <th>category</th>\n",
       "      <th>job</th>\n",
       "      <th>characters</th>\n",
       "    </tr>\n",
       "  </thead>\n",
       "  <tbody>\n",
       "    <tr>\n",
       "      <th>27170840</th>\n",
       "      <td>tt17493988</td>\n",
       "      <td>2</td>\n",
       "      <td>nm12706233</td>\n",
       "      <td>actress</td>\n",
       "      <td>\\N</td>\n",
       "      <td>[\"Gorochan\"]</td>\n",
       "    </tr>\n",
       "    <tr>\n",
       "      <th>44849540</th>\n",
       "      <td>tt6506330</td>\n",
       "      <td>1</td>\n",
       "      <td>nm4087189</td>\n",
       "      <td>actor</td>\n",
       "      <td>\\N</td>\n",
       "      <td>[\"Schwarzmann\"]</td>\n",
       "    </tr>\n",
       "    <tr>\n",
       "      <th>44828387</th>\n",
       "      <td>tt6497482</td>\n",
       "      <td>4</td>\n",
       "      <td>nm0032955</td>\n",
       "      <td>actor</td>\n",
       "      <td>\\N</td>\n",
       "      <td>\\N</td>\n",
       "    </tr>\n",
       "  </tbody>\n",
       "</table>\n",
       "</div>"
      ],
      "text/plain": [
       "              tconst  ordering      nconst category job       characters\n",
       "27170840  tt17493988         2  nm12706233  actress  \\N     [\"Gorochan\"]\n",
       "44849540   tt6506330         1   nm4087189    actor  \\N  [\"Schwarzmann\"]\n",
       "44828387   tt6497482         4   nm0032955    actor  \\N               \\N"
      ]
     },
     "execution_count": 14,
     "metadata": {},
     "output_type": "execute_result"
    }
   ],
   "source": [
    "principal_df.sample(3)"
   ]
  },
  {
   "cell_type": "code",
   "execution_count": 16,
   "metadata": {},
   "outputs": [],
   "source": [
    "temp_df = principal_df[principal_df.nconst == \"nm12706233\"]"
   ]
  },
  {
   "cell_type": "code",
   "execution_count": 23,
   "metadata": {},
   "outputs": [
    {
     "data": {
      "text/html": [
       "<div>\n",
       "<style scoped>\n",
       "    .dataframe tbody tr th:only-of-type {\n",
       "        vertical-align: middle;\n",
       "    }\n",
       "\n",
       "    .dataframe tbody tr th {\n",
       "        vertical-align: top;\n",
       "    }\n",
       "\n",
       "    .dataframe thead th {\n",
       "        text-align: right;\n",
       "    }\n",
       "</style>\n",
       "<table border=\"1\" class=\"dataframe\">\n",
       "  <thead>\n",
       "    <tr style=\"text-align: right;\">\n",
       "      <th></th>\n",
       "      <th>tconst</th>\n",
       "      <th>ordering</th>\n",
       "      <th>nconst</th>\n",
       "      <th>category</th>\n",
       "      <th>job</th>\n",
       "      <th>characters</th>\n",
       "    </tr>\n",
       "  </thead>\n",
       "  <tbody>\n",
       "    <tr>\n",
       "      <th>22392344</th>\n",
       "      <td>tt14934206</td>\n",
       "      <td>2</td>\n",
       "      <td>nm12706233</td>\n",
       "      <td>actress</td>\n",
       "      <td>\\N</td>\n",
       "      <td>\\N</td>\n",
       "    </tr>\n",
       "    <tr>\n",
       "      <th>24213039</th>\n",
       "      <td>tt15558090</td>\n",
       "      <td>2</td>\n",
       "      <td>nm12706233</td>\n",
       "      <td>actress</td>\n",
       "      <td>\\N</td>\n",
       "      <td>[\"Gorochan\"]</td>\n",
       "    </tr>\n",
       "    <tr>\n",
       "      <th>24214631</th>\n",
       "      <td>tt15558928</td>\n",
       "      <td>2</td>\n",
       "      <td>nm12706233</td>\n",
       "      <td>actress</td>\n",
       "      <td>\\N</td>\n",
       "      <td>[\"Gorochan\"]</td>\n",
       "    </tr>\n",
       "    <tr>\n",
       "      <th>24214634</th>\n",
       "      <td>tt15558930</td>\n",
       "      <td>2</td>\n",
       "      <td>nm12706233</td>\n",
       "      <td>actress</td>\n",
       "      <td>\\N</td>\n",
       "      <td>[\"Gorochan\"]</td>\n",
       "    </tr>\n",
       "    <tr>\n",
       "      <th>24214638</th>\n",
       "      <td>tt15558932</td>\n",
       "      <td>2</td>\n",
       "      <td>nm12706233</td>\n",
       "      <td>actress</td>\n",
       "      <td>\\N</td>\n",
       "      <td>[\"Gorochan\"]</td>\n",
       "    </tr>\n",
       "    <tr>\n",
       "      <th>...</th>\n",
       "      <td>...</td>\n",
       "      <td>...</td>\n",
       "      <td>...</td>\n",
       "      <td>...</td>\n",
       "      <td>...</td>\n",
       "      <td>...</td>\n",
       "    </tr>\n",
       "    <tr>\n",
       "      <th>29560710</th>\n",
       "      <td>tt19720338</td>\n",
       "      <td>2</td>\n",
       "      <td>nm12706233</td>\n",
       "      <td>actress</td>\n",
       "      <td>\\N</td>\n",
       "      <td>[\"Gorochan\"]</td>\n",
       "    </tr>\n",
       "    <tr>\n",
       "      <th>29560714</th>\n",
       "      <td>tt19720340</td>\n",
       "      <td>2</td>\n",
       "      <td>nm12706233</td>\n",
       "      <td>actress</td>\n",
       "      <td>\\N</td>\n",
       "      <td>[\"Gorochan\"]</td>\n",
       "    </tr>\n",
       "    <tr>\n",
       "      <th>29560718</th>\n",
       "      <td>tt19720342</td>\n",
       "      <td>2</td>\n",
       "      <td>nm12706233</td>\n",
       "      <td>actress</td>\n",
       "      <td>\\N</td>\n",
       "      <td>[\"Gorochan\"]</td>\n",
       "    </tr>\n",
       "    <tr>\n",
       "      <th>29560722</th>\n",
       "      <td>tt19720344</td>\n",
       "      <td>2</td>\n",
       "      <td>nm12706233</td>\n",
       "      <td>actress</td>\n",
       "      <td>\\N</td>\n",
       "      <td>[\"Gorochan\"]</td>\n",
       "    </tr>\n",
       "    <tr>\n",
       "      <th>29560726</th>\n",
       "      <td>tt19720346</td>\n",
       "      <td>2</td>\n",
       "      <td>nm12706233</td>\n",
       "      <td>actress</td>\n",
       "      <td>\\N</td>\n",
       "      <td>[\"Gorochan\"]</td>\n",
       "    </tr>\n",
       "  </tbody>\n",
       "</table>\n",
       "<p>835 rows × 6 columns</p>\n",
       "</div>"
      ],
      "text/plain": [
       "              tconst  ordering      nconst category job    characters\n",
       "22392344  tt14934206         2  nm12706233  actress  \\N            \\N\n",
       "24213039  tt15558090         2  nm12706233  actress  \\N  [\"Gorochan\"]\n",
       "24214631  tt15558928         2  nm12706233  actress  \\N  [\"Gorochan\"]\n",
       "24214634  tt15558930         2  nm12706233  actress  \\N  [\"Gorochan\"]\n",
       "24214638  tt15558932         2  nm12706233  actress  \\N  [\"Gorochan\"]\n",
       "...              ...       ...         ...      ...  ..           ...\n",
       "29560710  tt19720338         2  nm12706233  actress  \\N  [\"Gorochan\"]\n",
       "29560714  tt19720340         2  nm12706233  actress  \\N  [\"Gorochan\"]\n",
       "29560718  tt19720342         2  nm12706233  actress  \\N  [\"Gorochan\"]\n",
       "29560722  tt19720344         2  nm12706233  actress  \\N  [\"Gorochan\"]\n",
       "29560726  tt19720346         2  nm12706233  actress  \\N  [\"Gorochan\"]\n",
       "\n",
       "[835 rows x 6 columns]"
      ]
     },
     "execution_count": 23,
     "metadata": {},
     "output_type": "execute_result"
    }
   ],
   "source": [
    "temp_df"
   ]
  }
 ],
 "metadata": {
  "kernelspec": {
   "display_name": "venv",
   "language": "python",
   "name": "python3"
  },
  "language_info": {
   "codemirror_mode": {
    "name": "ipython",
    "version": 3
   },
   "file_extension": ".py",
   "mimetype": "text/x-python",
   "name": "python",
   "nbconvert_exporter": "python",
   "pygments_lexer": "ipython3",
   "version": "3.10.4"
  },
  "orig_nbformat": 4,
  "vscode": {
   "interpreter": {
    "hash": "b9d17b1caf3c2ba79f74315966f6dec33f67805ef4ef0db43489e70402111b1d"
   }
  }
 },
 "nbformat": 4,
 "nbformat_minor": 2
}
